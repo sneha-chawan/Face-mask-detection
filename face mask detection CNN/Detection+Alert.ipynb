{
 "cells": [
  {
   "cell_type": "code",
   "execution_count": null,
   "metadata": {
    "id": "JLyOM48vgxFL"
   },
   "outputs": [],
   "source": [
    "import numpy as np\n",
    "import keras\n",
    "import keras.backend as k\n",
    "from keras.layers import Conv2D,MaxPooling2D,SpatialDropout2D,Flatten,Dropout,Dense\n",
    "from keras.models import Sequential,load_model\n",
    "from keras.optimizers import Adam\n",
    "from keras.preprocessing import image\n",
    "import cv2\n",
    "import datetime\n",
    "import smtplib\n",
    "import time\n",
    "from email.mime.multipart import MIMEMultipart\n",
    "from email.mime.text import MIMEText"
   ]
  },
  {
   "cell_type": "code",
   "execution_count": null,
   "metadata": {
    "id": "kxi853wHgxFN"
   },
   "outputs": [],
   "source": [
    "mymodel=load_model('mymodel.h5')\n",
    "check=10000\n",
    "list1=[8000,6000,4000,2000]\n",
    "a=0\n",
    "cap=cv2.VideoCapture(0) #0 = camera connected to system\n",
    "face_cascade=cv2.CascadeClassifier('haarcascade_frontalface_default.xml')\n",
    "\n",
    "while cap.isOpened():\n",
    "    _,img=cap.read()\n",
    "    face=face_cascade.detectMultiScale(img,scaleFactor=1.1,minNeighbors=4)\n",
    "    for(x,y,w,h) in face:\n",
    "        face_img = img[y:y+h, x:x+w]      #ROI crop img\n",
    "        cv2.imwrite('temp.jpg',face_img)  #saving img\n",
    "        test_image=image.load_img('temp.jpg',target_size=(150,150,3))\n",
    "        test_image=image.img_to_array(test_image)\n",
    "        test_image=np.expand_dims(test_image,axis=0)\n",
    "        pred=mymodel.predict_classes(test_image)[0][0]\n",
    "        if pred==1: #not wearing mask\n",
    "            cv2.rectangle(img,(x,y),(x+w,y+h),(0,0,255),3)\n",
    "            cv2.putText(img,'NO MASK',((x+w)//2,y+h+20),cv2.FONT_HERSHEY_SIMPLEX,1,(0,0,255),3)\n",
    "            if check==list1[a]:\n",
    "                fromaddr= \"covidfacemaskdetection@gmail.com\"  #from\n",
    "                toaddr=\"snehachawan1999@gmail.com\"    #to\n",
    "                msg=MIMEMultipart()   #divides into parts\n",
    "                msg['From']=fromaddr\n",
    "                msg['To']=toaddr\n",
    "                msg['Subject']=\"NO MASK detected\"\n",
    "                body=\"Kindly wear your mask.\"\n",
    "                msg.attach(MIMEText(body,'plain'))   #attaches to the body of mail as plain text\n",
    "                server=smtplib.SMTP('smtp.gmail.com',port=587)  #for gmail we use 587 port tls\n",
    "                server.starttls()\n",
    "                server.login(fromaddr,\"wearamask\")  #password\n",
    "                text=msg.as_string()\n",
    "                server.sendmail(fromaddr,toaddr,text)\n",
    "                server.quit()\n",
    "                a=a+1\n",
    "\n",
    "        else: #wearing mask ==0 then ...\n",
    "            cv2.rectangle(img,(x,y),(x+w,y+h),(0,255,0),3)\n",
    "            cv2.putText(img,'MASK',((x+w)//2,y+h+20),cv2.FONT_HERSHEY_SIMPLEX,1,(0,255,0),3)\n",
    "        datet=str(datetime.datetime.now())\n",
    "        cv2.putText(img,datet,(400,450),cv2.FONT_HERSHEY_SIMPLEX,0.5,(255,255,255),1)\n",
    "\n",
    "    cv2.imshow('img',img)\n",
    "    check=check-1\n",
    "\n",
    "\n",
    "    if cv2.waitKey(1)==ord('q'):\n",
    "        break\n",
    "\n",
    "cap.release()\n",
    "cv2.destroyAllWindows()"
   ]
  },
  {
   "cell_type": "code",
   "execution_count": null,
   "metadata": {
    "id": "Wdz4-MtVgxFO"
   },
   "outputs": [],
   "source": []
  },
  {
   "cell_type": "code",
   "execution_count": null,
   "metadata": {
    "id": "NNbxqGAsgxFO"
   },
   "outputs": [],
   "source": []
  },
  {
   "cell_type": "code",
   "execution_count": null,
   "metadata": {
    "id": "RFQljLYtgxFO"
   },
   "outputs": [],
   "source": []
  },
  {
   "cell_type": "code",
   "execution_count": null,
   "metadata": {
    "id": "2jwUiTTmgxFO"
   },
   "outputs": [],
   "source": []
  }
 ],
 "metadata": {
  "colab": {
   "provenance": []
  },
  "kernelspec": {
   "display_name": "Python 3 (ipykernel)",
   "language": "python",
   "name": "python3"
  },
  "language_info": {
   "codemirror_mode": {
    "name": "ipython",
    "version": 3
   },
   "file_extension": ".py",
   "mimetype": "text/x-python",
   "name": "python",
   "nbconvert_exporter": "python",
   "pygments_lexer": "ipython3",
   "version": "3.11.7"
  }
 },
 "nbformat": 4,
 "nbformat_minor": 4
}
